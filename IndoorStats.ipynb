{
 "cells": [
  {
   "cell_type": "code",
   "execution_count": 97,
   "metadata": {},
   "outputs": [],
   "source": [
    "import sys\n",
    "import numpy as np\n",
    "import pandas as pd\n",
    "import matplotlib.pyplot as plt"
   ]
  },
  {
   "cell_type": "code",
   "execution_count": 98,
   "metadata": {},
   "outputs": [
    {
     "data": {
      "text/plain": [
       "Index(['_index', '_type', '_id', '_score', '_source'], dtype='object')"
      ]
     },
     "execution_count": 98,
     "metadata": {},
     "output_type": "execute_result"
    }
   ],
   "source": [
    "original_df = pd.read_json('Donnees_Louvre_Zones_FORMATTED.json')\n",
    "original_df.columns"
   ]
  },
  {
   "cell_type": "code",
   "execution_count": 99,
   "metadata": {},
   "outputs": [
    {
     "data": {
      "text/html": [
       "<div>\n",
       "<style scoped>\n",
       "    .dataframe tbody tr th:only-of-type {\n",
       "        vertical-align: middle;\n",
       "    }\n",
       "\n",
       "    .dataframe tbody tr th {\n",
       "        vertical-align: top;\n",
       "    }\n",
       "\n",
       "    .dataframe thead th {\n",
       "        text-align: right;\n",
       "    }\n",
       "</style>\n",
       "<table border=\"1\" class=\"dataframe\">\n",
       "  <thead>\n",
       "    <tr style=\"text-align: right;\">\n",
       "      <th></th>\n",
       "      <th>_index</th>\n",
       "      <th>_type</th>\n",
       "      <th>_id</th>\n",
       "      <th>_score</th>\n",
       "      <th>_source</th>\n",
       "    </tr>\n",
       "  </thead>\n",
       "  <tbody>\n",
       "    <tr>\n",
       "      <th>0</th>\n",
       "      <td>visits2</td>\n",
       "      <td>visit</td>\n",
       "      <td>14859677952946378</td>\n",
       "      <td>1</td>\n",
       "      <td>{'user_id': '2946378', 'visit_begin': '2017-02...</td>\n",
       "    </tr>\n",
       "    <tr>\n",
       "      <th>1</th>\n",
       "      <td>visits2</td>\n",
       "      <td>visit</td>\n",
       "      <td>14883584032946378</td>\n",
       "      <td>1</td>\n",
       "      <td>{'user_id': '2946378', 'visit_begin': '2017-03...</td>\n",
       "    </tr>\n",
       "    <tr>\n",
       "      <th>2</th>\n",
       "      <td>visits2</td>\n",
       "      <td>visit</td>\n",
       "      <td>14885292222946378</td>\n",
       "      <td>1</td>\n",
       "      <td>{'user_id': '2946378', 'visit_begin': '2017-03...</td>\n",
       "    </tr>\n",
       "    <tr>\n",
       "      <th>3</th>\n",
       "      <td>visits2</td>\n",
       "      <td>visit</td>\n",
       "      <td>14903809872946378</td>\n",
       "      <td>1</td>\n",
       "      <td>{'user_id': '2946378', 'visit_begin': '2017-03...</td>\n",
       "    </tr>\n",
       "    <tr>\n",
       "      <th>4</th>\n",
       "      <td>visits2</td>\n",
       "      <td>visit</td>\n",
       "      <td>14920083432996102</td>\n",
       "      <td>1</td>\n",
       "      <td>{'user_id': '2996102', 'visit_begin': '2017-04...</td>\n",
       "    </tr>\n",
       "    <tr>\n",
       "      <th>...</th>\n",
       "      <td>...</td>\n",
       "      <td>...</td>\n",
       "      <td>...</td>\n",
       "      <td>...</td>\n",
       "      <td>...</td>\n",
       "    </tr>\n",
       "    <tr>\n",
       "      <th>4940</th>\n",
       "      <td>visits2</td>\n",
       "      <td>visit</td>\n",
       "      <td>14960599844878268</td>\n",
       "      <td>1</td>\n",
       "      <td>{'userId': '4878268', 'visit_begin': '2017-05-...</td>\n",
       "    </tr>\n",
       "    <tr>\n",
       "      <th>4941</th>\n",
       "      <td>visits2</td>\n",
       "      <td>visit</td>\n",
       "      <td>14960628574878268</td>\n",
       "      <td>1</td>\n",
       "      <td>{'user_id': '4878268', 'visit_begin': '2017-05...</td>\n",
       "    </tr>\n",
       "    <tr>\n",
       "      <th>4942</th>\n",
       "      <td>visits2</td>\n",
       "      <td>visit</td>\n",
       "      <td>14960601214878274</td>\n",
       "      <td>1</td>\n",
       "      <td>{'userId': '4878274', 'visit_begin': '2017-05-...</td>\n",
       "    </tr>\n",
       "    <tr>\n",
       "      <th>4943</th>\n",
       "      <td>visits2</td>\n",
       "      <td>visit</td>\n",
       "      <td>14960664844878274</td>\n",
       "      <td>1</td>\n",
       "      <td>{'user_id': '4878274', 'visit_begin': '2017-05...</td>\n",
       "    </tr>\n",
       "    <tr>\n",
       "      <th>4944</th>\n",
       "      <td>visits2</td>\n",
       "      <td>visit</td>\n",
       "      <td>14960664374878408</td>\n",
       "      <td>1</td>\n",
       "      <td>{'userId': '4878407', 'visit_begin': '2017-05-...</td>\n",
       "    </tr>\n",
       "  </tbody>\n",
       "</table>\n",
       "<p>4945 rows × 5 columns</p>\n",
       "</div>"
      ],
      "text/plain": [
       "       _index  _type                _id  _score  \\\n",
       "0     visits2  visit  14859677952946378       1   \n",
       "1     visits2  visit  14883584032946378       1   \n",
       "2     visits2  visit  14885292222946378       1   \n",
       "3     visits2  visit  14903809872946378       1   \n",
       "4     visits2  visit  14920083432996102       1   \n",
       "...       ...    ...                ...     ...   \n",
       "4940  visits2  visit  14960599844878268       1   \n",
       "4941  visits2  visit  14960628574878268       1   \n",
       "4942  visits2  visit  14960601214878274       1   \n",
       "4943  visits2  visit  14960664844878274       1   \n",
       "4944  visits2  visit  14960664374878408       1   \n",
       "\n",
       "                                                _source  \n",
       "0     {'user_id': '2946378', 'visit_begin': '2017-02...  \n",
       "1     {'user_id': '2946378', 'visit_begin': '2017-03...  \n",
       "2     {'user_id': '2946378', 'visit_begin': '2017-03...  \n",
       "3     {'user_id': '2946378', 'visit_begin': '2017-03...  \n",
       "4     {'user_id': '2996102', 'visit_begin': '2017-04...  \n",
       "...                                                 ...  \n",
       "4940  {'userId': '4878268', 'visit_begin': '2017-05-...  \n",
       "4941  {'user_id': '4878268', 'visit_begin': '2017-05...  \n",
       "4942  {'userId': '4878274', 'visit_begin': '2017-05-...  \n",
       "4943  {'user_id': '4878274', 'visit_begin': '2017-05...  \n",
       "4944  {'userId': '4878407', 'visit_begin': '2017-05-...  \n",
       "\n",
       "[4945 rows x 5 columns]"
      ]
     },
     "execution_count": 99,
     "metadata": {},
     "output_type": "execute_result"
    }
   ],
   "source": [
    "original_df"
   ]
  },
  {
   "cell_type": "code",
   "execution_count": 155,
   "metadata": {},
   "outputs": [],
   "source": [
    "df = original_df._source"
   ]
  },
  {
   "cell_type": "code",
   "execution_count": 156,
   "metadata": {},
   "outputs": [
    {
     "data": {
      "text/plain": [
       "RangeIndex(start=0, stop=4945, step=1)"
      ]
     },
     "execution_count": 156,
     "metadata": {},
     "output_type": "execute_result"
    }
   ],
   "source": [
    "df.index"
   ]
  },
  {
   "cell_type": "code",
   "execution_count": 157,
   "metadata": {},
   "outputs": [],
   "source": [
    "visits_df = pd.DataFrame(columns = [\"Id\", \"User Id\", \"Begin At\", \"Duration\", \"Positions\", \"Zones\"])\n",
    "zone_list2 = []"
   ]
  },
  {
   "cell_type": "code",
   "execution_count": null,
   "metadata": {},
   "outputs": [],
   "source": [
    "for  index, visit in original_df._source.iteritems():\n",
    "    \n",
    "    visits_df.at[index, 'Id'] = original_df.loc[index,'_id']\n",
    "    if 'user_id' in visit:\n",
    "        visits_df.at[index, 'User Id'] = visit['user_id']\n",
    "    elif 'userId' in visit:\n",
    "        visits_df.at[index, 'User Id'] = visit['userId']\n",
    "    visits_df.at[index, 'Begin At'] = pd.to_datetime(visit['visit_begin'])\n",
    "    visits_df.at[index, 'Duration'] = visit['visit_duration']\n",
    "    visits_df.at[index, 'Positions'] = visit['number_of_positions']\n",
    "    visits_df.at[index, 'Zones'] = []\n",
    "    zone_list1 = []"
   ]
  },
  {
   "cell_type": "code",
   "execution_count": 162,
   "metadata": {},
   "outputs": [
    {
     "data": {
      "text/plain": [
       "[{'zone': {'id': 60910,\n",
       "   'name': 'N1-Richelieu-Arts décoratifs européens',\n",
       "   'tags': ['stats'],\n",
       "   'level': 1},\n",
       "  'begin_at': '2017-05-29T14:00:37.000Z',\n",
       "  'duration': 48,\n",
       "  'nextZone': 60894},\n",
       " {'zone': {'id': 60894,\n",
       "   'name': 'N2-Richelieu-Peintures/France',\n",
       "   'tags': [],\n",
       "   'level': 2},\n",
       "  'begin_at': '2017-05-29T14:01:26.000Z',\n",
       "  'duration': 9,\n",
       "  'nextZone': 60910},\n",
       " {'zone': {'id': 60910,\n",
       "   'name': 'N1-Richelieu-Arts décoratifs européens',\n",
       "   'tags': ['stats'],\n",
       "   'level': 1},\n",
       "  'begin_at': '2017-05-29T14:01:40.000Z',\n",
       "  'duration': 73,\n",
       "  'nextZone': 60846},\n",
       " {'zone': {'id': 60846,\n",
       "   'name': 'RC-Richelieu-Antiquités du Proche-Orient',\n",
       "   'tags': [],\n",
       "   'level': 0},\n",
       "  'begin_at': '2017-05-29T14:02:54.000Z',\n",
       "  'duration': 45,\n",
       "  'nextZone': 60847},\n",
       " {'zone': {'id': 60847,\n",
       "   'name': 'RC-Richelieu-Sculptures France Puget',\n",
       "   'tags': [],\n",
       "   'level': 0},\n",
       "  'begin_at': '2017-05-29T14:05:08.000Z',\n",
       "  'duration': 3,\n",
       "  'nextZone': 60910},\n",
       " {'zone': {'id': 60910,\n",
       "   'name': 'N1-Richelieu-Arts décoratifs européens',\n",
       "   'tags': ['stats'],\n",
       "   'level': 1},\n",
       "  'begin_at': '2017-05-29T14:05:12.000Z',\n",
       "  'duration': 85}]"
      ]
     },
     "execution_count": 162,
     "metadata": {},
     "output_type": "execute_result"
    }
   ],
   "source": [
    "visit['visit_times_zones'][:]"
   ]
  },
  {
   "cell_type": "code",
   "execution_count": 190,
   "metadata": {},
   "outputs": [],
   "source": [
    "for  index, visit in original_df._source.iteritems():\n",
    "    \n",
    "    visits_df.at[index, 'Id'] = original_df.loc[index,'_id']\n",
    "    if 'user_id' in visit:\n",
    "        visits_df.at[index, 'User Id'] = visit['user_id']\n",
    "    elif 'userId' in visit:\n",
    "        visits_df.at[index, 'User Id'] = visit['userId']\n",
    "    visits_df.at[index, 'Begin At'] = pd.to_datetime(visit['visit_begin'])\n",
    "    visits_df.at[index, 'Duration'] = visit['visit_duration']\n",
    "    visits_df.at[index, 'Positions'] = visit['number_of_positions']\n",
    "    visits_df.at[index, 'Zones'] = []\n",
    "    zone_list1 = []\n",
    "    '''\n",
    "    for zone in visit['visit_times_zones'][:]:\n",
    "        visit['visit_times_zones'][:]\n",
    "        if 'nextZone' in zone.keys():\n",
    "            zone_list1.append({\"ZoneBeginAt \": (pd.to_datetime(zone['begin_at'])).astimezone('UTC'), \"ZoneId\": zone['zone']['id'], \"ZoneName\": zone['zone']['name'], \"ZoneLevel\": zone['zone']['level'], \"ZoneDuration\": zone['duration'], \"NextZoneId\": zone['nextZone']})\n",
    "            if 'user_id' in visit:\n",
    "                zone_list2.append({\"VisitId\": original_df.loc[index,'_id'], \"UserId\": visit['user_id'], \"VisitDuration\": visit['visit_duration'], \"VisitPositions\": visit['number_of_positions'], \"ZoneBeginAt\": (pd.to_datetime(zone['begin_at'])).astimezone('UTC'), \"ZoneId\": zone['zone']['id'], \"ZoneName\": zone['zone']['name'], \"ZoneLevel\": zone['zone']['level'], \"ZoneDuration\": zone['duration'], \"NextZoneId\": zone['nextZone']})\n",
    "            else: \n",
    "                zone_list2.append({\"VisitId\": original_df.loc[index,'_id'], \"UserId\": visit['userId'], \"VisitDuration\": visit['visit_duration'], \"VisitPositions\": visit['number_of_positions'], \"ZoneBeginAt\": (pd.to_datetime(zone['begin_at'])).astimezone('UTC'), \"ZoneId\": zone['zone']['id'], \"ZoneName\": zone['zone']['name'], \"ZoneLevel\": zone['zone']['level'], \"ZoneDuration\": zone['duration'], \"NextZoneId\": zone['nextZone']})\n",
    "        else:\n",
    "            zone_list1.append({\"ZoneBeginAt\": (pd.to_datetime(zone['begin_at'])).astimezone('UTC'), \"ZoneId\": zone['zone']['id'], \"ZoneName\": zone['zone']['name'], \"ZoneLevel\": zone['zone']['level'], \"ZoneDuration\": zone['duration'], \"NextZoneId\": 'none'})\n",
    "            if 'user_id' in visit: \n",
    "                zone_list2.append({\"VisitId\": original_df.loc[index,'_id'], \"UserId\": visit['user_id'], \"VisitDuration\": visit['visit_duration'], \"VisitPositions\": visit['number_of_positions'], \"ZoneBeginAt\": (pd.to_datetime(zone['begin_at'])).astimezone('UTC'), \"ZoneId\": zone['zone']['id'], \"ZoneName\": zone['zone']['name'], \"ZoneLevel\": zone['zone']['level'], \"ZoneDuration\": zone['duration'], \"NextZoneId\": 'none'})\n",
    "            else: \n",
    "                zone_list2.append({\"VisitId\": original_df.loc[index,'_id'], \"UserId\": visit['userId'], \"VisitDuration\": visit['visit_duration'], \"VisitPositions\": visit['number_of_positions'], \"ZoneBeginAt\": (pd.to_datetime(zone['begin_at'])).astimezone('UTC'), \"ZoneId\": zone['zone']['id'], \"ZoneName\": zone['zone']['name'], \"ZoneLevel\": zone['zone']['level'], \"ZoneDuration\": zone['duration'], \"NextZoneId\": 'none'})\n",
    "\n",
    "        visits_df.at[index, 'Zones'] = zone_list1\n",
    "zones_df = pd.DataFrame(zone_list2, columns=[\"UserId\", \"VisitId\", \"VisitDuration\", \"VisitPositions\", \"ZoneName\", \"ZoneLevel\", \"ZoneId\", \"ZoneBeginAt\", \"ZoneDuration\", \"NextZoneId\"]) # Use \"zone_list2\" for \"zones_df\".\n",
    "'''"
   ]
  },
  {
   "cell_type": "code",
   "execution_count": 210,
   "metadata": {},
   "outputs": [],
   "source": [
    "zones_df = pd.DataFrame(columns = [\"ZoneId\", \"ZoneName\", \"ZoneDuration\", \"ZoneLevel\"])\n",
    "for  index, visit in original_df._source.iteritems():\n",
    "    \n",
    "    visits_df.at[index, 'Id'] = original_df.loc[index,'_id']\n",
    "    if 'user_id' in visit:\n",
    "        visits_df.at[index, 'User Id'] = visit['user_id']\n",
    "    elif 'userId' in visit:\n",
    "        visits_df.at[index, 'User Id'] = visit['userId']\n",
    "    visits_df.at[index, 'Begin At'] = pd.to_datetime(visit['visit_begin'])\n",
    "    visits_df.at[index, 'Duration'] = visit['visit_duration']\n",
    "    visits_df.at[index, 'Positions'] = visit['number_of_positions']\n",
    "    visits_df.at[index, 'Zones'] = []\n",
    "    zone_list1 = []\n",
    "    for zone in visit['visit_times_zones'][:]:\n",
    "        zones_df.at[index, \"ZoneId\"] = zone[\"zone\"][\"id\"]\n",
    "        zones_df.at[index, \"ZoneName\"] = zone[\"zone\"][\"name\"]\n",
    "        zones_df.at[index, \"ZoneDuration\"] = zone[\"duration\"]\n",
    "        zones_df.at[index, \"ZoneLevel\"] = zone[\"zone\"][\"level\"]"
   ]
  },
  {
   "cell_type": "code",
   "execution_count": 211,
   "metadata": {},
   "outputs": [],
   "source": [
    "#zones = hcv.loc[hcv['Category'] == 3]"
   ]
  },
  {
   "cell_type": "code",
   "execution_count": 219,
   "metadata": {},
   "outputs": [],
   "source": [
    "ListZoneNames = zones_df.ZoneName.unique()"
   ]
  },
  {
   "cell_type": "code",
   "execution_count": 231,
   "metadata": {},
   "outputs": [],
   "source": [
    "for zoneName in ListZoneNames : \n",
    "    zone1 = zones_df.loc[zones_df['ZoneName'] == zoneName]"
   ]
  },
  {
   "cell_type": "code",
   "execution_count": 233,
   "metadata": {},
   "outputs": [
    {
     "data": {
      "text/plain": [
       "271"
      ]
     },
     "execution_count": 233,
     "metadata": {},
     "output_type": "execute_result"
    }
   ],
   "source": [
    "zone1.ZoneDuration.sum()"
   ]
  },
  {
   "cell_type": "code",
   "execution_count": null,
   "metadata": {},
   "outputs": [],
   "source": []
  }
 ],
 "metadata": {
  "kernelspec": {
   "display_name": "Python 3",
   "language": "python",
   "name": "python3"
  },
  "language_info": {
   "codemirror_mode": {
    "name": "ipython",
    "version": 3
   },
   "file_extension": ".py",
   "mimetype": "text/x-python",
   "name": "python",
   "nbconvert_exporter": "python",
   "pygments_lexer": "ipython3",
   "version": "3.8.5"
  }
 },
 "nbformat": 4,
 "nbformat_minor": 4
}
